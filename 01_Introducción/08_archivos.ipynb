{
 "cells": [
  {
   "cell_type": "code",
   "execution_count": 11,
   "metadata": {},
   "outputs": [
    {
     "name": "stdout",
     "output_type": "stream",
     "text": [
      "<_io.TextIOWrapper name='./08_archivos.txt' mode='r' encoding='UTF-8'>\n",
      "<class '_io.TextIOWrapper'>\n",
      "['Buenas noches']\n",
      "<class 'list'>\n",
      "Buenas noches\n"
     ]
    }
   ],
   "source": [
    "try:\n",
    "    path = './08_archivos.txt'\n",
    "    archivo_abierto = open(path)\n",
    "    print(archivo_abierto)\n",
    "    print(type(archivo_abierto))\n",
    "    \n",
    "    #linea_leida_uno=archivo_abierto.readline()\n",
    "    #print(linea_leida_uno)\n",
    "    #print(type(linea_leida_uno))\n",
    "    \n",
    "    #linea_leida_dos=archivo_abierto.readline()\n",
    "    #print(linea_leida_dos)\n",
    "    #print(type(linea_leida_dos))\n",
    "    \n",
    "    lineas_archivo = archivo_abierto.readlines()\n",
    "    print(lineas_archivo)\n",
    "    print(type(lineas_archivo))\n",
    "    \n",
    "    for linea in lineas_archivo:\n",
    "        print(linea)\n",
    "        \n",
    "    archivo_abierto.close()\n",
    "\n",
    "except:\n",
    "    print('Error leyendo archivo')"
   ]
  },
  {
   "cell_type": "code",
   "execution_count": 19,
   "metadata": {},
   "outputs": [],
   "source": [
    "try:\n",
    "    path = './08_archivos.txt'\n",
    "    archivo_escritura_abierto = open(path,mode='a')\n",
    "    # a -> Append y añade el contenido al final\n",
    "    # w -> Sobre escribe el contenido\n",
    "    archivo_escritura_abierto.write('Buenas noches\\n')\n",
    "    archivo_escritura_abierto.writelines(['hola\\n','mundo\\n'])\n",
    "    archivo_escritura_abierto.close()\n",
    "except:\n",
    "    print('Error leyendo archivo')"
   ]
  },
  {
   "cell_type": "code",
   "execution_count": 3,
   "metadata": {},
   "outputs": [
    {
     "data": {
      "text/plain": [
       "['https://coinmarketcap.com/rankings/exchanges/1',\n",
       " 'https://coinmarketcap.com/rankings/exchanges/2',\n",
       " 'https://coinmarketcap.com/rankings/exchanges/3']"
      ]
     },
     "execution_count": 3,
     "metadata": {},
     "output_type": "execute_result"
    }
   ],
   "source": [
    "url_inicial = 'https://coinmarketcap.com/rankings/exchanges/'\n",
    "url_auxiliar = ''\n",
    "grupo_urls = []\n",
    "n=1\n",
    "\n",
    "for url in range(3):\n",
    "    url_auxiliar = url_inicial+str(n)\n",
    "    grupo_urls.append(url_auxiliar)\n",
    "    n=n+1\n",
    "       \n",
    "grupo_urls"
   ]
  },
  {
   "cell_type": "code",
   "execution_count": null,
   "metadata": {},
   "outputs": [],
   "source": []
  }
 ],
 "metadata": {
  "kernelspec": {
   "display_name": "Python 3",
   "language": "python",
   "name": "python3"
  },
  "language_info": {
   "codemirror_mode": {
    "name": "ipython",
    "version": 3
   },
   "file_extension": ".py",
   "mimetype": "text/x-python",
   "name": "python",
   "nbconvert_exporter": "python",
   "pygments_lexer": "ipython3",
   "version": "3.7.3"
  }
 },
 "nbformat": 4,
 "nbformat_minor": 2
}
