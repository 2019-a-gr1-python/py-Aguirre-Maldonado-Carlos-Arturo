{
 "cells": [
  {
   "cell_type": "markdown",
   "metadata": {},
   "source": [
    "# Indices"
   ]
  },
  {
   "cell_type": "code",
   "execution_count": 1,
   "metadata": {},
   "outputs": [],
   "source": [
    "import numpy as np"
   ]
  },
  {
   "cell_type": "code",
   "execution_count": 2,
   "metadata": {},
   "outputs": [],
   "source": [
    "numeros = np.arange(11)**2"
   ]
  },
  {
   "cell_type": "code",
   "execution_count": 3,
   "metadata": {},
   "outputs": [
    {
     "data": {
      "text/plain": [
       "array([  0,   1,   4,   9,  16,  25,  36,  49,  64,  81, 100], dtype=int32)"
      ]
     },
     "execution_count": 3,
     "metadata": {},
     "output_type": "execute_result"
    }
   ],
   "source": [
    "numeros"
   ]
  },
  {
   "cell_type": "code",
   "execution_count": 4,
   "metadata": {},
   "outputs": [],
   "source": [
    "indices = [2,5,7]"
   ]
  },
  {
   "cell_type": "code",
   "execution_count": 5,
   "metadata": {},
   "outputs": [
    {
     "data": {
      "text/plain": [
       "array([ 4, 25, 49], dtype=int32)"
      ]
     },
     "execution_count": 5,
     "metadata": {},
     "output_type": "execute_result"
    }
   ],
   "source": [
    "numeros[indices]"
   ]
  },
  {
   "cell_type": "code",
   "execution_count": 6,
   "metadata": {},
   "outputs": [],
   "source": [
    "arreglo_frutas = np.array([\n",
    "    ['Piña','Manzana','Pera','Melon'],\n",
    "    ['Pera','Uva','Naranja','Papaya'],\n",
    "    ['Frutilla','Platano','Granadilla','Sandia']\n",
    "])"
   ]
  },
  {
   "cell_type": "code",
   "execution_count": 7,
   "metadata": {},
   "outputs": [
    {
     "data": {
      "text/plain": [
       "(3, 4)"
      ]
     },
     "execution_count": 7,
     "metadata": {},
     "output_type": "execute_result"
    }
   ],
   "source": [
    "arreglo_frutas.shape"
   ]
  },
  {
   "cell_type": "code",
   "execution_count": 8,
   "metadata": {},
   "outputs": [
    {
     "data": {
      "text/plain": [
       "array([[0, 0, 0, 0],\n",
       "       [1, 1, 1, 1],\n",
       "       [2, 2, 2, 2]])"
      ]
     },
     "execution_count": 8,
     "metadata": {},
     "output_type": "execute_result"
    }
   ],
   "source": [
    "arreglo_filas = np.array([\n",
    "    [0,0,0,0],\n",
    "    [1,1,1,1],\n",
    "    [2,2,2,2]\n",
    "])\n",
    "arreglo_filas"
   ]
  },
  {
   "cell_type": "code",
   "execution_count": 9,
   "metadata": {},
   "outputs": [
    {
     "data": {
      "text/plain": [
       "array([[0, 1, 2, 3],\n",
       "       [0, 1, 2, 3],\n",
       "       [0, 1, 2, 3]])"
      ]
     },
     "execution_count": 9,
     "metadata": {},
     "output_type": "execute_result"
    }
   ],
   "source": [
    "arreglo_columnas = np.array([\n",
    "    [0,1,2,3],\n",
    "    [0,1,2,3],\n",
    "    [0,1,2,3]\n",
    "])\n",
    "arreglo_columnas"
   ]
  },
  {
   "cell_type": "code",
   "execution_count": 10,
   "metadata": {},
   "outputs": [
    {
     "data": {
      "text/plain": [
       "array([['Piña', 'Manzana', 'Pera', 'Melon'],\n",
       "       ['Pera', 'Uva', 'Naranja', 'Papaya'],\n",
       "       ['Frutilla', 'Platano', 'Granadilla', 'Sandia']], dtype='<U10')"
      ]
     },
     "execution_count": 10,
     "metadata": {},
     "output_type": "execute_result"
    }
   ],
   "source": [
    "arreglo_frutas[arreglo_filas,arreglo_columnas]"
   ]
  },
  {
   "cell_type": "code",
   "execution_count": 11,
   "metadata": {},
   "outputs": [
    {
     "data": {
      "text/plain": [
       "array([['Piña', 'Manzana', 'Pera', 'Melon'],\n",
       "       ['Pera', 'Uva', 'Naranja', 'Papaya'],\n",
       "       ['Frutilla', 'Platano', 'Granadilla', 'Sandia']], dtype='<U10')"
      ]
     },
     "execution_count": 11,
     "metadata": {},
     "output_type": "execute_result"
    }
   ],
   "source": [
    "arreglo_frutas"
   ]
  },
  {
   "cell_type": "code",
   "execution_count": 12,
   "metadata": {},
   "outputs": [
    {
     "data": {
      "text/plain": [
       "array([[0, 0],\n",
       "       [1, 1],\n",
       "       [2, 2]])"
      ]
     },
     "execution_count": 12,
     "metadata": {},
     "output_type": "execute_result"
    }
   ],
   "source": [
    "arreglo_filas2 = np.array([\n",
    "    [0,0],\n",
    "    [1,1],\n",
    "    [2,2]\n",
    "])\n",
    "arreglo_filas2"
   ]
  },
  {
   "cell_type": "code",
   "execution_count": 13,
   "metadata": {},
   "outputs": [
    {
     "data": {
      "text/plain": [
       "array([[2, 3],\n",
       "       [2, 3],\n",
       "       [2, 3]])"
      ]
     },
     "execution_count": 13,
     "metadata": {},
     "output_type": "execute_result"
    }
   ],
   "source": [
    "arreglo_columnas2 = np.array([\n",
    "    [2,3],\n",
    "    [2,3],\n",
    "    [2,3]\n",
    "])\n",
    "arreglo_columnas2"
   ]
  },
  {
   "cell_type": "code",
   "execution_count": 14,
   "metadata": {},
   "outputs": [
    {
     "data": {
      "text/plain": [
       "array([['Pera', 'Melon'],\n",
       "       ['Naranja', 'Papaya'],\n",
       "       ['Granadilla', 'Sandia']], dtype='<U10')"
      ]
     },
     "execution_count": 14,
     "metadata": {},
     "output_type": "execute_result"
    }
   ],
   "source": [
    "arreglo_frutas[arreglo_filas2,arreglo_columnas2]"
   ]
  },
  {
   "cell_type": "code",
   "execution_count": 10,
   "metadata": {},
   "outputs": [
    {
     "data": {
      "text/plain": [
       "(24,)"
      ]
     },
     "execution_count": 10,
     "metadata": {},
     "output_type": "execute_result"
    }
   ],
   "source": [
    "arreglo_frutas_1D = np.array(['Piña','Manzana','Pera','Melon','Carambola','Tomate','Chirimoya','Guaba','Capulí',\n",
    "                            'Uva','Naranja','Papaya','Durazno','Aguacate','Granada','Limón','Frutilla','Platano',\n",
    "                            'Granadilla','Sandia','Mandarina','Achotillos','Maqueño','Lima'])\n",
    "arreglo_frutas_1D.shape"
   ]
  },
  {
   "cell_type": "code",
   "execution_count": 11,
   "metadata": {},
   "outputs": [
    {
     "data": {
      "text/plain": [
       "array([[['Piña', 'Manzana'],\n",
       "        ['Pera', 'Melon'],\n",
       "        ['Carambola', 'Tomate'],\n",
       "        ['Chirimoya', 'Guaba']],\n",
       "\n",
       "       [['Capulí', 'Uva'],\n",
       "        ['Naranja', 'Papaya'],\n",
       "        ['Durazno', 'Aguacate'],\n",
       "        ['Granada', 'Limón']],\n",
       "\n",
       "       [['Frutilla', 'Platano'],\n",
       "        ['Granadilla', 'Sandia'],\n",
       "        ['Mandarina', 'Achotillos'],\n",
       "        ['Maqueño', 'Lima']]], dtype='<U10')"
      ]
     },
     "execution_count": 11,
     "metadata": {},
     "output_type": "execute_result"
    }
   ],
   "source": [
    "arreglo_frutas_3D = arreglo_frutas_1D.reshape(3,4,2)\n",
    "arreglo_frutas_3D"
   ]
  },
  {
   "cell_type": "code",
   "execution_count": 46,
   "metadata": {},
   "outputs": [
    {
     "data": {
      "text/plain": [
       "(3, 1, 1)"
      ]
     },
     "execution_count": 46,
     "metadata": {},
     "output_type": "execute_result"
    }
   ],
   "source": [
    "primera_dimension = np.array([\n",
    "    [[0]],\n",
    "    [[1]],\n",
    "    [[2]]\n",
    "])\n",
    "primera_dimension.shape"
   ]
  },
  {
   "cell_type": "code",
   "execution_count": 13,
   "metadata": {},
   "outputs": [
    {
     "data": {
      "text/plain": [
       "array([[[0, 0]],\n",
       "\n",
       "       [[1, 1]],\n",
       "\n",
       "       [[2, 2]]])"
      ]
     },
     "execution_count": 13,
     "metadata": {},
     "output_type": "execute_result"
    }
   ],
   "source": [
    "primera_dimension"
   ]
  },
  {
   "cell_type": "code",
   "execution_count": 45,
   "metadata": {},
   "outputs": [
    {
     "data": {
      "text/plain": [
       "(1, 4, 1)"
      ]
     },
     "execution_count": 45,
     "metadata": {},
     "output_type": "execute_result"
    }
   ],
   "source": [
    "segunda_dimension = np.array([\n",
    "    [[0],\n",
    "    [1],\n",
    "    [2],\n",
    "    [3]]\n",
    "])\n",
    "segunda_dimension.shape"
   ]
  },
  {
   "cell_type": "code",
   "execution_count": 41,
   "metadata": {},
   "outputs": [
    {
     "data": {
      "text/plain": [
       "array([[0],\n",
       "       [1],\n",
       "       [2],\n",
       "       [3]])"
      ]
     },
     "execution_count": 41,
     "metadata": {},
     "output_type": "execute_result"
    }
   ],
   "source": [
    "segunda_dimension"
   ]
  },
  {
   "cell_type": "code",
   "execution_count": 48,
   "metadata": {},
   "outputs": [
    {
     "data": {
      "text/plain": [
       "(1, 1, 2)"
      ]
     },
     "execution_count": 48,
     "metadata": {},
     "output_type": "execute_result"
    }
   ],
   "source": [
    "tercera_dimension = np.array([\n",
    "    [[0,1]]\n",
    "])\n",
    "tercera_dimension.shape #Funciona incluso si el arreglo es de 2D"
   ]
  },
  {
   "cell_type": "code",
   "execution_count": 49,
   "metadata": {},
   "outputs": [
    {
     "data": {
      "text/plain": [
       "array([[[0, 1]]])"
      ]
     },
     "execution_count": 49,
     "metadata": {},
     "output_type": "execute_result"
    }
   ],
   "source": [
    "tercera_dimension"
   ]
  },
  {
   "cell_type": "code",
   "execution_count": 50,
   "metadata": {},
   "outputs": [
    {
     "data": {
      "text/plain": [
       "array([[['Piña', 'Manzana'],\n",
       "        ['Pera', 'Melon'],\n",
       "        ['Carambola', 'Tomate'],\n",
       "        ['Chirimoya', 'Guaba']],\n",
       "\n",
       "       [['Capulí', 'Uva'],\n",
       "        ['Naranja', 'Papaya'],\n",
       "        ['Durazno', 'Aguacate'],\n",
       "        ['Granada', 'Limón']],\n",
       "\n",
       "       [['Frutilla', 'Platano'],\n",
       "        ['Granadilla', 'Sandia'],\n",
       "        ['Mandarina', 'Achotillos'],\n",
       "        ['Maqueño', 'Lima']]], dtype='<U10')"
      ]
     },
     "execution_count": 50,
     "metadata": {},
     "output_type": "execute_result"
    }
   ],
   "source": [
    "arreglo_frutas_3D[primera_dimension, segunda_dimension, tercera_dimension]"
   ]
  },
  {
   "cell_type": "code",
   "execution_count": 19,
   "metadata": {},
   "outputs": [
    {
     "data": {
      "text/plain": [
       "array([[['Piña', 'Manzana'],\n",
       "        ['Pera', 'Melon'],\n",
       "        ['Carambola', 'Tomate'],\n",
       "        ['Chirimoya', 'Guaba']],\n",
       "\n",
       "       [['Capulí', 'Uva'],\n",
       "        ['Naranja', 'Papaya'],\n",
       "        ['Durazno', 'Aguacate'],\n",
       "        ['Granada', 'Limón']],\n",
       "\n",
       "       [['Frutilla', 'Platano'],\n",
       "        ['Granadilla', 'Sandia'],\n",
       "        ['Mandarina', 'Achotillos'],\n",
       "        ['Maqueño', 'Lima']]], dtype='<U10')"
      ]
     },
     "execution_count": 19,
     "metadata": {},
     "output_type": "execute_result"
    }
   ],
   "source": [
    "arreglo_frutas_3D"
   ]
  },
  {
   "cell_type": "code",
   "execution_count": 20,
   "metadata": {},
   "outputs": [
    {
     "data": {
      "text/plain": [
       "array(['Piña', 'Manzana', 'Pera', 'Melon', 'Carambola', 'Tomate',\n",
       "       'Chirimoya', 'Guaba', 'Capulí', 'Uva', 'Naranja', 'Papaya',\n",
       "       'Durazno', 'Aguacate', 'Granada', 'Limón', 'Frutilla', 'Platano',\n",
       "       'Granadilla', 'Sandia', 'Mandarina', 'Achotillos', 'Maqueño',\n",
       "       'Lima'], dtype='<U10')"
      ]
     },
     "execution_count": 20,
     "metadata": {},
     "output_type": "execute_result"
    }
   ],
   "source": [
    "arreglo_frutas_1D"
   ]
  },
  {
   "cell_type": "code",
   "execution_count": 21,
   "metadata": {},
   "outputs": [
    {
     "name": "stdout",
     "output_type": "stream",
     "text": [
      "(array([0, 0, 1, 2]), array([0, 1, 1, 0]), array([0, 0, 1, 1]))\n"
     ]
    }
   ],
   "source": [
    "print(np.where(arreglo_frutas_3D.astype('<U1') == 'P'))"
   ]
  },
  {
   "cell_type": "code",
   "execution_count": 32,
   "metadata": {},
   "outputs": [
    {
     "name": "stdout",
     "output_type": "stream",
     "text": [
      "['Piña' 'Pera' 'Papaya' 'Platano']\n"
     ]
    }
   ],
   "source": [
    "#Arreglo 1 Dimensión\n",
    "print(arreglo_frutas_1D[np.where(arreglo_frutas_1D.astype('<U1') == 'P')])"
   ]
  },
  {
   "cell_type": "code",
   "execution_count": 33,
   "metadata": {},
   "outputs": [
    {
     "name": "stdout",
     "output_type": "stream",
     "text": [
      "['Piña' 'Pera' 'Papaya' 'Platano']\n"
     ]
    }
   ],
   "source": [
    "#Arreglo 3 Dimensiones\n",
    "print(arreglo_frutas_3D[np.where(arreglo_frutas_3D.astype('<U1') == 'P')])"
   ]
  },
  {
   "cell_type": "code",
   "execution_count": 5,
   "metadata": {},
   "outputs": [],
   "source": [
    "url_inicial = 'https://www.fybeca.com/FybecaWeb/pages/search-results.jsf?cat=238&s=0&pp=25'"
   ]
  },
  {
   "cell_type": "code",
   "execution_count": 4,
   "metadata": {},
   "outputs": [
    {
     "data": {
      "text/plain": [
       "68"
      ]
     },
     "execution_count": 4,
     "metadata": {},
     "output_type": "execute_result"
    }
   ],
   "source": [
    "len('https://www.fybeca.com/FybecaWeb/pages/search-results.jsf?cat=238&s=')"
   ]
  },
  {
   "cell_type": "code",
   "execution_count": 9,
   "metadata": {},
   "outputs": [
    {
     "data": {
      "text/plain": [
       "'&pp=25'"
      ]
     },
     "execution_count": 9,
     "metadata": {},
     "output_type": "execute_result"
    }
   ],
   "source": [
    "url_inicial[69:]"
   ]
  },
  {
   "cell_type": "code",
   "execution_count": 16,
   "metadata": {},
   "outputs": [
    {
     "data": {
      "text/plain": [
       "['https://www.fybeca.com/FybecaWeb/pages/search-results.jsf?cat=238&s=0&pp=25',\n",
       " 'https://www.fybeca.com/FybecaWeb/pages/search-results.jsf?cat=238&s=25&pp=25',\n",
       " 'https://www.fybeca.com/FybecaWeb/pages/search-results.jsf?cat=238&s=50&pp=25',\n",
       " 'https://www.fybeca.com/FybecaWeb/pages/search-results.jsf?cat=238&s=75&pp=25',\n",
       " 'https://www.fybeca.com/FybecaWeb/pages/search-results.jsf?cat=238&s=100&pp=25',\n",
       " 'https://www.fybeca.com/FybecaWeb/pages/search-results.jsf?cat=238&s=125&pp=25',\n",
       " 'https://www.fybeca.com/FybecaWeb/pages/search-results.jsf?cat=238&s=150&pp=25']"
      ]
     },
     "execution_count": 16,
     "metadata": {},
     "output_type": "execute_result"
    }
   ],
   "source": [
    "grupo_urls = []\n",
    "url_inicial = 'https://www.fybeca.com/FybecaWeb/pages/search-results.jsf?cat=238&s=0&pp=25'\n",
    "n=0\n",
    "final_de_url = url_inicial[69:]\n",
    "\n",
    "for url in range(7):\n",
    "    url_inicial = url_inicial[0:68]+str(n)+final_de_url\n",
    "    grupo_urls.append(url_inicial)\n",
    "    n=n+25\n",
    "grupo_urls"
   ]
  },
  {
   "cell_type": "code",
   "execution_count": 48,
   "metadata": {},
   "outputs": [],
   "source": [
    "precios = [\"text:'$' + (15.00).formatMoney(2, ';', ',')\", \"text:'$' + (5.40).formatMoney(2, ';', ',')\"]"
   ]
  },
  {
   "cell_type": "code",
   "execution_count": 49,
   "metadata": {},
   "outputs": [
    {
     "data": {
      "text/plain": [
       "[\"text:'$' + (15.00).formatMoney(2, ';', ',')\",\n",
       " \"text:'$' + (5.40).formatMoney(2, ';', ',')\"]"
      ]
     },
     "execution_count": 49,
     "metadata": {},
     "output_type": "execute_result"
    }
   ],
   "source": [
    "precios"
   ]
  },
  {
   "cell_type": "code",
   "execution_count": 50,
   "metadata": {},
   "outputs": [
    {
     "name": "stdout",
     "output_type": "stream",
     "text": [
      "43\n",
      "42\n"
     ]
    }
   ],
   "source": [
    "i = 0\n",
    "for precio in precios:\n",
    "    if(len(precio)==43):\n",
    "        precios[i] = precio[12:17]\n",
    "        print('43')\n",
    "    else:\n",
    "        precios[i] = precio[12:16]\n",
    "        print('42')\n",
    "    i = i+1\n"
   ]
  },
  {
   "cell_type": "code",
   "execution_count": 51,
   "metadata": {},
   "outputs": [
    {
     "data": {
      "text/plain": [
       "['15.00', '5.40']"
      ]
     },
     "execution_count": 51,
     "metadata": {},
     "output_type": "execute_result"
    }
   ],
   "source": [
    "precios"
   ]
  },
  {
   "cell_type": "code",
   "execution_count": null,
   "metadata": {},
   "outputs": [],
   "source": []
  },
  {
   "cell_type": "code",
   "execution_count": null,
   "metadata": {},
   "outputs": [],
   "source": []
  },
  {
   "cell_type": "code",
   "execution_count": null,
   "metadata": {},
   "outputs": [],
   "source": []
  },
  {
   "cell_type": "code",
   "execution_count": null,
   "metadata": {},
   "outputs": [],
   "source": []
  }
 ],
 "metadata": {
  "kernelspec": {
   "display_name": "Python 3",
   "language": "python",
   "name": "python3"
  },
  "language_info": {
   "codemirror_mode": {
    "name": "ipython",
    "version": 3
   },
   "file_extension": ".py",
   "mimetype": "text/x-python",
   "name": "python",
   "nbconvert_exporter": "python",
   "pygments_lexer": "ipython3",
   "version": "3.7.3"
  }
 },
 "nbformat": 4,
 "nbformat_minor": 2
}
