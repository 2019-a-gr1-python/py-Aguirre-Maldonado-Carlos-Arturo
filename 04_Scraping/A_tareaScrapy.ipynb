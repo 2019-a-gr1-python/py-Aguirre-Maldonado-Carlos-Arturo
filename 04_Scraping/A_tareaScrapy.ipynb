{
 "cells": [
  {
   "cell_type": "code",
   "execution_count": 2,
   "metadata": {},
   "outputs": [],
   "source": [
    "import pandas as pd\n",
    "import numpy as np"
   ]
  },
  {
   "cell_type": "code",
   "execution_count": null,
   "metadata": {},
   "outputs": [],
   "source": [
    "scrapy bench https://www.fybeca.com/FybecaWeb/pages/search-results.jsf?cat=447&amp;s=0&amp;pp=25\n",
    "    \n",
    "scrapy shell #https://www.fybeca.com/FybecaWeb/pages/search-results.jsf?cat=447&amp;s=0&amp;pp=25"
   ]
  },
  {
   "cell_type": "code",
   "execution_count": null,
   "metadata": {},
   "outputs": [],
   "source": [
    "productos = response.xpath('/html/body/div/div/div/div/div/ul/li/@data-nanme').extract()\n",
    "\n",
    "precios_descuento = response.xpath('//div[contains(@class,\"price-member\")]/div[@data-bind]').extract()\n",
    "\n",
    "precios = reponse.xpath('//div[contains(@class. \"price\") and not(contains(@class,\"-type\"))and not(contains(@class,\"-member\"))]').extract()\n"
   ]
  },
  {
   "cell_type": "code",
   "execution_count": null,
   "metadata": {},
   "outputs": [],
   "source": [
    "i = 0;\n",
    "\n",
    "for precio in precios_descuento: \n",
    "\tprecios_descuento[i] = precio[28:32];\n",
    "\ti = i+1;\n",
    "    \n",
    "i = 0;\n",
    "\n",
    "for precio in precios: \n",
    "\tprecios[i] = precio[28:32];\n",
    "\ti = i+1;"
   ]
  },
  {
   "cell_type": "code",
   "execution_count": null,
   "metadata": {},
   "outputs": [],
   "source": [
    "precios_descuento_string = np.array(precios_descuento)\n",
    "\n",
    "precios_string = np.array(precios)\n",
    "\n",
    "precios_descuento_numero = precios_descuento_string.astype('float')\n",
    "\n",
    "precios_numero = precios_string.astype('float')"
   ]
  },
  {
   "cell_type": "code",
   "execution_count": 4,
   "metadata": {},
   "outputs": [],
   "source": [
    "productos = ['SHAMPOO JOHN FRIEDA BRILLANT BRUNETTE VISIBLY ', 'BB+ ACONDICIONADOR BEAUTIK SIN ENJUAGUE OLIO DI ARGAN', 'SHAMPOO ANTICASPA HEAD & SHOUL PROTECCION CAIDA 180 ']\n",
    "precios_descuento = ['12.64', '6.12', '4.57']\n",
    "precios = ['12.90', '6.31', '5.24']"
   ]
  },
  {
   "cell_type": "code",
   "execution_count": 8,
   "metadata": {},
   "outputs": [],
   "source": [
    "precios_descuento_string = np.array(precios_descuento)\n",
    "precios_string = np.array(precios)"
   ]
  },
  {
   "cell_type": "code",
   "execution_count": 15,
   "metadata": {},
   "outputs": [],
   "source": [
    "precios_descuento_numero = precios_descuento_string.astype('float')\n",
    "precios_numero = precios_string.astype('float')"
   ]
  },
  {
   "cell_type": "code",
   "execution_count": 18,
   "metadata": {},
   "outputs": [
    {
     "data": {
      "text/plain": [
       "SHAMPOO JOHN FRIEDA BRILLANT BRUNETTE VISIBLY            12.90\n",
       "BB+ ACONDICIONADOR BEAUTIK SIN ENJUAGUE OLIO DI ARGAN     6.31\n",
       "SHAMPOO ANTICASPA HEAD & SHOUL PROTECCION CAIDA 180       5.24\n",
       "dtype: float64"
      ]
     },
     "execution_count": 18,
     "metadata": {},
     "output_type": "execute_result"
    }
   ],
   "source": [
    "serie_precios = pd.Series(precios_numero,\n",
    "                           index=productos)\n",
    "serie_precios"
   ]
  },
  {
   "cell_type": "code",
   "execution_count": 19,
   "metadata": {},
   "outputs": [
    {
     "data": {
      "text/plain": [
       "SHAMPOO JOHN FRIEDA BRILLANT BRUNETTE VISIBLY            12.64\n",
       "BB+ ACONDICIONADOR BEAUTIK SIN ENJUAGUE OLIO DI ARGAN     6.12\n",
       "SHAMPOO ANTICASPA HEAD & SHOUL PROTECCION CAIDA 180       4.57\n",
       "dtype: float64"
      ]
     },
     "execution_count": 19,
     "metadata": {},
     "output_type": "execute_result"
    }
   ],
   "source": [
    "serie_precios_descuento = pd.Series(precios_descuento_numero,\n",
    "                           index=productos)\n",
    "serie_precios_descuento"
   ]
  },
  {
   "cell_type": "code",
   "execution_count": 23,
   "metadata": {},
   "outputs": [
    {
     "data": {
      "text/plain": [
       "SHAMPOO JOHN FRIEDA BRILLANT BRUNETTE VISIBLY            0.26\n",
       "BB+ ACONDICIONADOR BEAUTIK SIN ENJUAGUE OLIO DI ARGAN    0.19\n",
       "SHAMPOO ANTICASPA HEAD & SHOUL PROTECCION CAIDA 180      0.67\n",
       "dtype: float64"
      ]
     },
     "execution_count": 23,
     "metadata": {},
     "output_type": "execute_result"
    }
   ],
   "source": [
    "descuento = serie_precios - serie_precios_descuento\n",
    "descuento"
   ]
  },
  {
   "cell_type": "code",
   "execution_count": 28,
   "metadata": {},
   "outputs": [
    {
     "name": "stdout",
     "output_type": "stream",
     "text": [
      "0.67\n"
     ]
    }
   ],
   "source": [
    "print(\"{0:.2f}\".format(descuento.max()))"
   ]
  },
  {
   "cell_type": "code",
   "execution_count": 39,
   "metadata": {},
   "outputs": [
    {
     "name": "stdout",
     "output_type": "stream",
     "text": [
      "SHAMPOO ANTICASPA HEAD & SHOUL PROTECCION CAIDA 180 \n"
     ]
    }
   ],
   "source": [
    "print(descuento[descuento == descuento.max()].index[0])"
   ]
  },
  {
   "cell_type": "code",
   "execution_count": null,
   "metadata": {},
   "outputs": [],
   "source": []
  }
 ],
 "metadata": {
  "kernelspec": {
   "display_name": "Python 3",
   "language": "python",
   "name": "python3"
  },
  "language_info": {
   "codemirror_mode": {
    "name": "ipython",
    "version": 3
   },
   "file_extension": ".py",
   "mimetype": "text/x-python",
   "name": "python",
   "nbconvert_exporter": "python",
   "pygments_lexer": "ipython3",
   "version": "3.7.3"
  }
 },
 "nbformat": 4,
 "nbformat_minor": 2
}
