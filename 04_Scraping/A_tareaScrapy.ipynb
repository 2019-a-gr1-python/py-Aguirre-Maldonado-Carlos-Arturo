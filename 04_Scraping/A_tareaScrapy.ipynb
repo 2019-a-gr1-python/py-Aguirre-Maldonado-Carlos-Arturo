{
 "cells": [
  {
   "cell_type": "code",
   "execution_count": 2,
   "metadata": {},
   "outputs": [],
   "source": [
    "import pandas as pd\n",
    "import numpy as np"
   ]
  },
  {
   "cell_type": "code",
   "execution_count": 2,
   "metadata": {},
   "outputs": [],
   "source": [
    "#scrapy view https://www.fybeca.com/FybecaWeb/pages/search-results.jsf?cat=447&amp;s=0&amp;pp=25\n",
    "    \n",
    "#scrapy shell #https://www.fybeca.com/FybecaWeb/pages/search-results.jsf?cat=447&amp;s=0&amp;pp=25"
   ]
  },
  {
   "cell_type": "code",
   "execution_count": null,
   "metadata": {},
   "outputs": [],
   "source": [
    "productos = response.xpath('/html/body/div/div/div/div/div/ul/li/@data-name').extract()\n",
    "\n",
    "precios_descuento = response.xpath('//div[contains(@class,\"price-member\")]/div[@data-bind]').extract()\n",
    "\n",
    "precios = response.xpath('//ul/li/div/div/div/div[contains(@class,\"price\") and not (contains(@class,\"price-type\")) and not (contains(@class, \"price-member\"))]').extract()"
   ]
  },
  {
   "cell_type": "code",
   "execution_count": null,
   "metadata": {},
   "outputs": [],
   "source": [
    "i = 0;\n",
    "    \n",
    "for precio in precios_descuento:\n",
    "    if len(precio)==67:\n",
    "        precios_descuento[i] = float(precio[28:33]);\n",
    "    else:\n",
    "        precios_descuento[i] = float(precio[28:32]);\n",
    "    i=i+1;\n",
    "    \n",
    "i = 0;\n",
    "\n",
    "for precio in precios:\n",
    "    if len(precio)==67:\n",
    "        precios[i] = float(precio[42:47]);\n",
    "    else:\n",
    "        precios[i] = float(precio[42:46]);\n",
    "    i=i+1;"
   ]
  },
  {
   "cell_type": "code",
   "execution_count": 12,
   "metadata": {},
   "outputs": [],
   "source": [
    "productos = ['SHAMPOO JOHN FRIEDA BRILLANT BRUNETTE VISIBLY ', 'BB+ ACONDICIONADOR BEAUTIK SIN ENJUAGUE OLIO DI ARGAN', 'SHAMPOO ANTICASPA HEAD & SHOUL PROTECCION CAIDA 180 ']\n",
    "precios_descuento = ['abc12.64abc', 'abc6.12abc', 'abc4.57abc']\n",
    "precios = ['abc12.90abc', 'abc6.31abc', 'abc5.24abc']"
   ]
  },
  {
   "cell_type": "code",
   "execution_count": 16,
   "metadata": {},
   "outputs": [],
   "source": [
    "i = 0;\n",
    "\n",
    "for precio in precios_descuento:\n",
    "    precios_descuento[i] = float(precio[3:8]);\n",
    "    i=i+1;\n",
    "    \n",
    "i = 0;\n",
    "\n",
    "for precio in precios:\n",
    "    if len(precio)==11:\n",
    "        precios[i] = float(precio[3:8]);\n",
    "    else:\n",
    "        precios[i] = float(precio[3:7]);\n",
    "    i=i+1;"
   ]
  },
  {
   "cell_type": "code",
   "execution_count": 17,
   "metadata": {},
   "outputs": [
    {
     "data": {
      "text/plain": [
       "SHAMPOO JOHN FRIEDA BRILLANT BRUNETTE VISIBLY            12.90\n",
       "BB+ ACONDICIONADOR BEAUTIK SIN ENJUAGUE OLIO DI ARGAN     6.31\n",
       "SHAMPOO ANTICASPA HEAD & SHOUL PROTECCION CAIDA 180       5.24\n",
       "dtype: float64"
      ]
     },
     "execution_count": 17,
     "metadata": {},
     "output_type": "execute_result"
    }
   ],
   "source": [
    "serie_precios = pd.Series(precios,\n",
    "                           index=productos)\n",
    "serie_precios"
   ]
  },
  {
   "cell_type": "code",
   "execution_count": 18,
   "metadata": {},
   "outputs": [
    {
     "data": {
      "text/plain": [
       "SHAMPOO JOHN FRIEDA BRILLANT BRUNETTE VISIBLY            12.64\n",
       "BB+ ACONDICIONADOR BEAUTIK SIN ENJUAGUE OLIO DI ARGAN     6.12\n",
       "SHAMPOO ANTICASPA HEAD & SHOUL PROTECCION CAIDA 180       4.57\n",
       "dtype: float64"
      ]
     },
     "execution_count": 18,
     "metadata": {},
     "output_type": "execute_result"
    }
   ],
   "source": [
    "serie_precios_descuento = pd.Series(precios_descuento,\n",
    "                           index=productos)\n",
    "serie_precios_descuento"
   ]
  },
  {
   "cell_type": "code",
   "execution_count": 19,
   "metadata": {},
   "outputs": [
    {
     "data": {
      "text/plain": [
       "SHAMPOO JOHN FRIEDA BRILLANT BRUNETTE VISIBLY            0.26\n",
       "BB+ ACONDICIONADOR BEAUTIK SIN ENJUAGUE OLIO DI ARGAN    0.19\n",
       "SHAMPOO ANTICASPA HEAD & SHOUL PROTECCION CAIDA 180      0.67\n",
       "dtype: float64"
      ]
     },
     "execution_count": 19,
     "metadata": {},
     "output_type": "execute_result"
    }
   ],
   "source": [
    "descuento = serie_precios - serie_precios_descuento\n",
    "descuento"
   ]
  },
  {
   "cell_type": "code",
   "execution_count": 20,
   "metadata": {},
   "outputs": [
    {
     "name": "stdout",
     "output_type": "stream",
     "text": [
      "0.67\n"
     ]
    }
   ],
   "source": [
    "print(\"{0:.2f}\".format(descuento.max()))"
   ]
  },
  {
   "cell_type": "code",
   "execution_count": 21,
   "metadata": {},
   "outputs": [
    {
     "name": "stdout",
     "output_type": "stream",
     "text": [
      "SHAMPOO ANTICASPA HEAD & SHOUL PROTECCION CAIDA 180 \n"
     ]
    }
   ],
   "source": [
    "print(descuento[descuento == descuento.max()].index[0])"
   ]
  },
  {
   "cell_type": "code",
   "execution_count": null,
   "metadata": {},
   "outputs": [],
   "source": []
  }
 ],
 "metadata": {
  "kernelspec": {
   "display_name": "Python 3",
   "language": "python",
   "name": "python3"
  },
  "language_info": {
   "codemirror_mode": {
    "name": "ipython",
    "version": 3
   },
   "file_extension": ".py",
   "mimetype": "text/x-python",
   "name": "python",
   "nbconvert_exporter": "python",
   "pygments_lexer": "ipython3",
   "version": "3.7.1"
  }
 },
 "nbformat": 4,
 "nbformat_minor": 2
}
