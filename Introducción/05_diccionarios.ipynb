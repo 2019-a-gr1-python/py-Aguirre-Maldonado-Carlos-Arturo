{
 "cells": [
  {
   "cell_type": "code",
   "execution_count": 26,
   "metadata": {},
   "outputs": [],
   "source": [
    "#JSON - > Diccionario\n",
    "arturo = 'Arturo'\n",
    "carlos = {\n",
    "    'nombre': 'Carlos',\n",
    "    'apellido':'Aguirre',\n",
    "    'arturo' : arturo,\n",
    "    'edad': 22,\n",
    "    'hijos': None,\n",
    "    'casado' : False,\n",
    "    'sueldo' : 12.2,\n",
    "    'mascotas' : [\n",
    "        {\n",
    "            'nombre' : 'Mancha',\n",
    "            'edad' : 10\n",
    "        }\n",
    "    ],\n",
    "    'carro' : (0,1,2)\n",
    "}"
   ]
  },
  {
   "cell_type": "code",
   "execution_count": 27,
   "metadata": {},
   "outputs": [
    {
     "data": {
      "text/plain": [
       "'Carlos'"
      ]
     },
     "execution_count": 27,
     "metadata": {},
     "output_type": "execute_result"
    }
   ],
   "source": [
    "carlos['nombre']"
   ]
  },
  {
   "cell_type": "code",
   "execution_count": 28,
   "metadata": {},
   "outputs": [
    {
     "data": {
      "text/plain": [
       "'Mancha'"
      ]
     },
     "execution_count": 28,
     "metadata": {},
     "output_type": "execute_result"
    }
   ],
   "source": [
    "carlos['mascotas'][0]['nombre']"
   ]
  },
  {
   "cell_type": "code",
   "execution_count": 29,
   "metadata": {},
   "outputs": [
    {
     "data": {
      "text/plain": [
       "'Arturo'"
      ]
     },
     "execution_count": 29,
     "metadata": {},
     "output_type": "execute_result"
    }
   ],
   "source": [
    "carlos.pop('arturo')"
   ]
  },
  {
   "cell_type": "code",
   "execution_count": 30,
   "metadata": {},
   "outputs": [
    {
     "data": {
      "text/plain": [
       "{'nombre': 'Carlos',\n",
       " 'apellido': 'Aguirre',\n",
       " 'edad': 22,\n",
       " 'hijos': None,\n",
       " 'casado': False,\n",
       " 'sueldo': 12.2,\n",
       " 'mascotas': [{'nombre': 'Mancha', 'edad': 10}],\n",
       " 'carro': (0, 1, 2)}"
      ]
     },
     "execution_count": 30,
     "metadata": {},
     "output_type": "execute_result"
    }
   ],
   "source": [
    "carlos"
   ]
  },
  {
   "cell_type": "code",
   "execution_count": 31,
   "metadata": {},
   "outputs": [
    {
     "data": {
      "text/plain": [
       "dict_values"
      ]
     },
     "execution_count": 31,
     "metadata": {},
     "output_type": "execute_result"
    }
   ],
   "source": [
    "type(carlos.values())"
   ]
  },
  {
   "cell_type": "code",
   "execution_count": 32,
   "metadata": {},
   "outputs": [
    {
     "data": {
      "text/plain": [
       "dict_keys"
      ]
     },
     "execution_count": 32,
     "metadata": {},
     "output_type": "execute_result"
    }
   ],
   "source": [
    "type(carlos.keys())"
   ]
  },
  {
   "cell_type": "code",
   "execution_count": 33,
   "metadata": {},
   "outputs": [
    {
     "name": "stdout",
     "output_type": "stream",
     "text": [
      "Llave: nombre Valor: Carlos\n",
      "Llave: apellido Valor: Aguirre\n",
      "Llave: edad Valor: 22\n",
      "Llave: hijos Valor: None\n",
      "Llave: casado Valor: False\n",
      "Llave: sueldo Valor: 12.2\n",
      "Llave: mascotas Valor: [{'nombre': 'Mancha', 'edad': 10}]\n",
      "Llave: carro Valor: (0, 1, 2)\n"
     ]
    }
   ],
   "source": [
    "for key in carlos.keys():\n",
    "    print(f\"Llave: {key} Valor: {carlos[key]}\")"
   ]
  },
  {
   "cell_type": "code",
   "execution_count": 34,
   "metadata": {},
   "outputs": [],
   "source": [
    "carlos['arturo'] = arturo"
   ]
  },
  {
   "cell_type": "code",
   "execution_count": 35,
   "metadata": {},
   "outputs": [
    {
     "data": {
      "text/plain": [
       "{'nombre': 'Carlos',\n",
       " 'apellido': 'Aguirre',\n",
       " 'edad': 22,\n",
       " 'hijos': None,\n",
       " 'casado': False,\n",
       " 'sueldo': 12.2,\n",
       " 'mascotas': [{'nombre': 'Mancha', 'edad': 10}],\n",
       " 'carro': (0, 1, 2),\n",
       " 'arturo': 'Arturo'}"
      ]
     },
     "execution_count": 35,
     "metadata": {},
     "output_type": "execute_result"
    }
   ],
   "source": [
    "carlos"
   ]
  },
  {
   "cell_type": "code",
   "execution_count": 36,
   "metadata": {},
   "outputs": [],
   "source": [
    "valores_nuevos = {\n",
    "    'talia':'Talia',\n",
    "    'rafico':'Rafico',\n",
    "    'lula': 'Lula'\n",
    "}"
   ]
  },
  {
   "cell_type": "code",
   "execution_count": 37,
   "metadata": {},
   "outputs": [],
   "source": [
    "carlos.update(valores_nuevos)"
   ]
  },
  {
   "cell_type": "code",
   "execution_count": 38,
   "metadata": {},
   "outputs": [
    {
     "data": {
      "text/plain": [
       "{'nombre': 'Carlos',\n",
       " 'apellido': 'Aguirre',\n",
       " 'edad': 22,\n",
       " 'hijos': None,\n",
       " 'casado': False,\n",
       " 'sueldo': 12.2,\n",
       " 'mascotas': [{'nombre': 'Mancha', 'edad': 10}],\n",
       " 'carro': (0, 1, 2),\n",
       " 'arturo': 'Arturo',\n",
       " 'talia': 'Talia',\n",
       " 'rafico': 'Rafico',\n",
       " 'lula': 'Lula'}"
      ]
     },
     "execution_count": 38,
     "metadata": {},
     "output_type": "execute_result"
    }
   ],
   "source": [
    "carlos"
   ]
  },
  {
   "cell_type": "code",
   "execution_count": 42,
   "metadata": {},
   "outputs": [],
   "source": [
    "carlos.get('mascotas')[0].update(valores_nuevos)"
   ]
  },
  {
   "cell_type": "code",
   "execution_count": 43,
   "metadata": {},
   "outputs": [],
   "source": [
    "carlos.get('asd') "
   ]
  },
  {
   "cell_type": "code",
   "execution_count": 44,
   "metadata": {},
   "outputs": [
    {
     "data": {
      "text/plain": [
       "{'nombre': 'Carlos',\n",
       " 'apellido': 'Aguirre',\n",
       " 'edad': 22,\n",
       " 'hijos': None,\n",
       " 'casado': False,\n",
       " 'sueldo': 12.2,\n",
       " 'mascotas': [{'nombre': 'Mancha',\n",
       "   'edad': 10,\n",
       "   'talia': 'Talia',\n",
       "   'rafico': 'Rafico',\n",
       "   'lula': 'Lula'}],\n",
       " 'carro': (0, 1, 2),\n",
       " 'arturo': 'Arturo',\n",
       " 'talia': 'Talia',\n",
       " 'rafico': 'Rafico',\n",
       " 'lula': 'Lula'}"
      ]
     },
     "execution_count": 44,
     "metadata": {},
     "output_type": "execute_result"
    }
   ],
   "source": [
    "carlos"
   ]
  },
  {
   "cell_type": "code",
   "execution_count": null,
   "metadata": {},
   "outputs": [],
   "source": []
  }
 ],
 "metadata": {
  "kernelspec": {
   "display_name": "Python 3",
   "language": "python",
   "name": "python3"
  },
  "language_info": {
   "codemirror_mode": {
    "name": "ipython",
    "version": 3
   },
   "file_extension": ".py",
   "mimetype": "text/x-python",
   "name": "python",
   "nbconvert_exporter": "python",
   "pygments_lexer": "ipython3",
   "version": "3.7.1"
  }
 },
 "nbformat": 4,
 "nbformat_minor": 2
}
